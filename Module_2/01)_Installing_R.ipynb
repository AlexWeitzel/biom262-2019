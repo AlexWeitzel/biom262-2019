{
 "cells": [
  {
   "cell_type": "markdown",
   "metadata": {},
   "source": [
    "To install R we're using anaconda. These installations will take a while so be patient. \n",
    "\n",
    "We start by getting the basic R version.\n",
    "\n",
    "Note: you should enter line by line, don't copy paste everything since the next command will be the answer for a installation question which is obviously not valid. Take it step by step and do it right the first time else you might have to re-install everything, including Anaconda (I speak from experience)"
   ]
  },
  {
   "cell_type": "code",
   "execution_count": null,
   "metadata": {
    "collapsed": true
   },
   "outputs": [],
   "source": [
    "\n",
    "conda install -c r r\n"
   ]
  },
  {
   "cell_type": "markdown",
   "metadata": {},
   "source": [
    "Check whether the installation worked and see if R was installed:"
   ]
  },
  {
   "cell_type": "code",
   "execution_count": null,
   "metadata": {},
   "outputs": [],
   "source": [
    "which R"
   ]
  },
  {
   "cell_type": "markdown",
   "metadata": {},
   "source": [
    "Then actually launch R by simply typing the name of the language: R\n",
    "You should not see any warning messages when opening up the interpreter. If you're good to go you can continue with the installation of DESeq2.\n",
    "\n",
    "We will use [Bioconductor for the DESeq2 installation](https://bioconductor.org/packages/release/bioc/html/DESeq2.html). In the R interpreter, firs install the Bioconductor manager. The install DESeq2:"
   ]
  },
  {
   "cell_type": "code",
   "execution_count": null,
   "metadata": {},
   "outputs": [],
   "source": [
    "if (!requireNamespace(\"BiocManager\", quietly = TRUE))\n",
    "    install.packages(\"BiocManager\")\n",
    "    \n",
    "BiocManager::install(\"DESeq2\", version = \"3.8\")"
   ]
  },
  {
   "cell_type": "markdown",
   "metadata": {},
   "source": [
    "At the end of the installation it will ask you whether you want to update some packages. Yes, you do :). Now ckeck whether the installation worked by loading the library in R: library(DESeq2)\n",
    "\n",
    "Several loading messages will show up. If they all pass without giving you any wanrings or error messages at the end you have successfully installed R and DESeq2."
   ]
  }
 ],
 "metadata": {
  "kernelspec": {
   "display_name": "Python 3",
   "language": "python",
   "name": "python3"
  },
  "language_info": {
   "codemirror_mode": {
    "name": "ipython",
    "version": 3
   },
   "file_extension": ".py",
   "mimetype": "text/x-python",
   "name": "python",
   "nbconvert_exporter": "python",
   "pygments_lexer": "ipython3",
   "version": "3.7.1"
  }
 },
 "nbformat": 4,
 "nbformat_minor": 2
}
