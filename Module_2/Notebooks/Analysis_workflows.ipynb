{
 "cells": [
  {
   "cell_type": "markdown",
   "metadata": {},
   "source": [
    "# Exercise 1: Process featureCounts output for DESeq2 input file"
   ]
  },
  {
   "cell_type": "markdown",
   "metadata": {},
   "source": [
    "For your homework you used featureCounts to obtain the number of times a gene is observed in any of the samples. The file however, is a bit bulk and can't be used directly to run DESeq2. There are several ways to process this file, I will show you how I did it:"
   ]
  },
  {
   "cell_type": "code",
   "execution_count": null,
   "metadata": {},
   "outputs": [],
   "source": [
    "%%bash\n",
    "# move to your directory where featureCounts is located:\n",
    "tail -n +2 featureCounts.txt | cut -f1,6,7,8,9,10 > featureCounts_trimmed.txt"
   ]
  },
  {
   "cell_type": "markdown",
   "metadata": {},
   "source": [
    "Now that the file has defined columns I can more to R and start processing the file further"
   ]
  },
  {
   "cell_type": "code",
   "execution_count": null,
   "metadata": {},
   "outputs": [],
   "source": [
    "# load in the table\n",
    "fc.table <- read.table('featureCounts_trimmed.txt', header = T)\n",
    "\n",
    "# rename the columns\n",
    "colnames(fc.table) <- c('Geneid', 'Length', 'NT_shRNA_hepg2_rep1', 'NT_shRNA_hepg2_rep2', 'TARDBP_shRNA_hepg2_rep1', 'TARDBP_shRNA_hepg2_rep2')\n",
    "\n",
    "# separate out the counts to perform numeric operations\n",
    "fc.counts <- fc.table[,c(3:6)]\n",
    "\n",
    "# extract the indices of the rows which have low counts\n",
    "to.remove <- which(fc.counts[,1] < 5 & fc.counts[,2] < 5 & fc.counts[,3] < 5 & fc.counts[,4] < 5)\n",
    "\n",
    "# remove the rows from the original table\n",
    "fc.table.filtered <- fc.table[-to.remove, ]\n",
    "\n",
    "head(fc.table)\n",
    "head(fc.table.filtered)\n",
    "dim(fc.table)\n",
    "dim(fc.table.filtered)"
   ]
  },
  {
   "cell_type": "code",
   "execution_count": null,
   "metadata": {},
   "outputs": [],
   "source": [
    "# now save the table\n",
    "write.csv(fc.table.filtered, file = 'tardbp_counts_with_length.csv', row.names = F)"
   ]
  },
  {
   "cell_type": "markdown",
   "metadata": {},
   "source": [
    "# Exercise 2: Extract and plot DESeq2 results for chromosome 1"
   ]
  },
  {
   "cell_type": "markdown",
   "metadata": {},
   "source": [
    "In this section we will try to extract the DESeq2 results for chromosome 1 without re-running featureCoutns. As above, there are different ways of doing this, here is one of them. "
   ]
  },
  {
   "cell_type": "code",
   "execution_count": null,
   "metadata": {},
   "outputs": [],
   "source": [
    "%%bash\n",
    "\n",
    "# remove the first few lines using the 'tail' command. Additionally, use the 'pipe' to also extract only the columns of interest\n",
    "\n",
    "tail -n +6 ~/biom262_2019/Module_1/annotations/hg19/gencode.v29lift37.annotation.gtf | cut -f 1,3,4,9 > gencode_filtered.gtf\n",
    "\n",
    "# extract only rows containing 'chr1'. (note, the -w flag enforces a direct match. Else we would also get partial matches with chr10, chr11 etc.)\n",
    "grep -w 'chr1' gencode_filtered.gtf > gencode_chr1.gtf\n",
    "\n",
    "# since the format of column 9 is different from the other 2 we create two separate files which will individually be easier to process\n",
    "cut -f 1,2,3 gencode_chr1.gtf > gencode_chr1_pos.gtf\n",
    "cut -f4 gencode_chr1.gtf > gencode_chr1_info.gtf\n",
    "\n",
    "# lastly, make sure that your final files look as expected. Comparing the relative number of lines between the original file\n",
    "# and the chromosome 1 files we see that the new files have about 1/10 as many lines which matches our expectations\n",
    "wc -l gencode_filtered.gtf\n",
    "wc -l gencode_chr1.gtf\n"
   ]
  },
  {
   "cell_type": "markdown",
   "metadata": {},
   "source": [
    "Although we reduced the amount of data to deal with by quite a bit we still can do better. from the 'gencode_chr1_info.gtf' we only need the gene ID. Here we use Python to quickly parse the file:"
   ]
  },
  {
   "cell_type": "code",
   "execution_count": null,
   "metadata": {},
   "outputs": [],
   "source": [
    "%%python\n",
    "\n",
    "# read in file and extract the gene ID information\n",
    "info_file = open('gencode_chr1_info.gtf', 'r')\n",
    "out_ids = []\n",
    "for line in info_file:\n",
    "\trow_info = line.split(';')[0].split(' ')[1][1:-1]\n",
    "\tout_ids.append(row_info)\n",
    "\n",
    "# write all gene IDs to a .csv file which is easy to read into R\n",
    "outfile = open('gencode_chr1_IDs.csv', 'w')\n",
    "for i in range(0, len(out_ids)):\n",
    "\tto_write = out_ids[i] + '\\n'\n",
    "\toutfile.write(to_write)\n",
    "\t\n",
    "outfile.close()"
   ]
  },
  {
   "cell_type": "markdown",
   "metadata": {},
   "source": [
    "The above should run very fast (try running the same oprations in R and you will see why we did it in Python). Now we are ready to start extracting our DESeq2 results for chromosome 1. Since we want to save all our files in the DESeq2 directory make sure you move there first"
   ]
  },
  {
   "cell_type": "code",
   "execution_count": null,
   "metadata": {},
   "outputs": [],
   "source": [
    "chr1.pos.gtf <- read.delim('gencode_chr1_pos.gtf', header = FALSE, stringsAsFactors = FALSE)\n",
    "chr1.ids <- read.csv('gencode_chr1_IDs.csv', header = FALSE, stringsAsFactors = FALSE)\n",
    "deseq2.results <- read.csv('~/Module_2/notebooks/tardbp_deseq2_results.csv', header = TRUE, row.names = 1)\n",
    "deseq2.ids <- rownames(deseq2.results)\n",
    "\n",
    "# combine chromosome 1 info\n",
    "chr1.info <- cbind(chr1.pos.gtf, chr1.ids)\n",
    "colnames(chr1.info) <- c('chr', 'feature', 'start_pos', 'gene_id')\n",
    "\n",
    "# extract genes only\n",
    "chr1.gene.info <- chr1.info[chr1.info$feature == 'gene',]\n",
    "\n",
    "# extract all rows from the DEseq2 output which haev a chromosome 1 associated ID\n",
    "deseq2.chrom1 <- deseq2.results[which(deseq2.ids %in% chr1.gene.info$gene_id),]\n",
    "\n",
    "# below creates a list ith the ID as name and the position as value\n",
    "geneID.pos <- as.list(setNames(chr1.gene.info$start_pos, chr1.gene.info$gene_id))\n",
    "\n",
    "# extract the coordinates for the DESeq2 chromosome 1 results\n",
    "deseq2.chrom1.pos <- unlist(geneID.pos[rownames(deseq2.chrom1)])\n",
    "\n",
    "plot(x = deseq2.chrom1.pos, y = -log10(deseq2.chrom1$pvalue))"
   ]
  },
  {
   "cell_type": "code",
   "execution_count": null,
   "metadata": {},
   "outputs": [],
   "source": [
    "# we can also use ggplot to create plots instead. \n",
    "#Generally ggplot is more flexible and has more capabilities than Rs default plotting function\n",
    "library(ggplot2)\n",
    "\n",
    "# create Bonferroni corrected p-value threshold:\n",
    "bonf.thresh <- 0.05 / nrow(deseq2.results)\n",
    "\n",
    "# we want to add some color. Significant genes get colored red\n",
    "gene.colors <- rep('not_signig', length(deseq2.chrom1.pos))\n",
    "gene.colors[deseq2.chrom1$pvalue < bonf.thresh] <- 'signif'\n",
    "\n",
    "#format the data: ggplot expects a data frame\n",
    "format.data <- cbind.data.frame(xpos = deseq2.chrom1.pos, ypos = -log10(deseq2.chrom1$pvalue), col = gene.colors)\n",
    "\n",
    "# and how about making the p-value cutoff visible\n",
    "p.cutoff <- cbind.data.frame(pos = c(min(format.data$xpos), max(format.data$xpos)),\n",
    "                            val = c(-log10(bonf.thresh), -log10(bonf.thresh)))\n",
    "\n",
    "chrom1.plot <- ggplot()+\n",
    "    geom_point(data = format.data, aes(x = xpos, y = ypos, colour = col)) +\n",
    "    geom_line(data = p.cutoff, aes(x = pos, y = val), ,colour = 'red') + \n",
    "    theme_bw() \n",
    "\n",
    "print(chrom1.plot)"
   ]
  }
 ],
 "metadata": {
  "kernelspec": {
   "display_name": "R",
   "language": "R",
   "name": "ir"
  },
  "language_info": {
   "codemirror_mode": "r",
   "file_extension": ".r",
   "mimetype": "text/x-r-source",
   "name": "R",
   "pygments_lexer": "r",
   "version": "3.5.1"
  }
 },
 "nbformat": 4,
 "nbformat_minor": 2
}
