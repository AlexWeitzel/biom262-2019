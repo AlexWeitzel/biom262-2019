{
 "cells": [
  {
   "cell_type": "markdown",
   "metadata": {},
   "source": [
    "For those of you who had issues with anaconda installs and are tired of uninstalling and reinstalling: Miniconda is a lightweight version of Anaconda. It has fewer pre-installed packages which makes it faster to install and uninstall. First uninstall anaconda:"
   ]
  },
  {
   "cell_type": "code",
   "execution_count": null,
   "metadata": {},
   "outputs": [],
   "source": [
    "conda install anaconda-clean   # install the package anaconda clean\n",
    "anaconda-clean --yes           # clean all anaconda related files and directories \n",
    "rm -rf ~/anaconda2             # removes the entire anaconda directory\n",
    "\n",
    "rm -rf ~/.anaconda_backup       # anaconda clean creates a back_up of files/dirs, remove it \n",
    "                                # (conda list; cmd shouldn't respond after the clean up)"
   ]
  },
  {
   "cell_type": "markdown",
   "metadata": {},
   "source": [
    "Now download and install Miniconda in your home directory"
   ]
  },
  {
   "cell_type": "code",
   "execution_count": null,
   "metadata": {},
   "outputs": [],
   "source": [
    "wget https://repo.anaconda.com/miniconda/Miniconda2-latest-Linux-x86_64.sh\n",
    "bash Miniconda2-latest-Linux-x86_64.sh"
   ]
  },
  {
   "cell_type": "markdown",
   "metadata": {},
   "source": [
    "Now re-install the previous class packages and some extra ones:"
   ]
  },
  {
   "cell_type": "code",
   "execution_count": null,
   "metadata": {},
   "outputs": [],
   "source": [
    "conda install -c anaconda numpy\n",
    "\n",
    "conda install -c anaconda pandas\n",
    "\n",
    "conda install -c anaconda jupyter\n",
    "\n",
    "conda install -c bioconda STAR\n",
    "\n",
    "conda install -c bioconda fastqc\n",
    "\n",
    "conda install -c conda-forge -c bioconda samtools bzip2\n",
    "\n",
    "conda install -c bioconda subread"
   ]
  },
  {
   "cell_type": "markdown",
   "metadata": {},
   "source": [
    "Now follow the [R installation steps](https://github.com/biom262/biom262-2019/blob/master/Module_2/Notebooks/01_Installing_R.ipynb) again. Already after the first step R should be installed so you can check after each step if things are still working by starting R and quitting again."
   ]
  }
 ],
 "metadata": {
  "kernelspec": {
   "display_name": "Python 3",
   "language": "python",
   "name": "python3"
  },
  "language_info": {
   "codemirror_mode": {
    "name": "ipython",
    "version": 3
   },
   "file_extension": ".py",
   "mimetype": "text/x-python",
   "name": "python",
   "nbconvert_exporter": "python",
   "pygments_lexer": "ipython3",
   "version": "3.7.1"
  }
 },
 "nbformat": 4,
 "nbformat_minor": 2
}
