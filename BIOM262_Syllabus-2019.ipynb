{
 "cells": [
  {
   "cell_type": "markdown",
   "metadata": {
    "collapsed": true
   },
   "source": [
    "# BIOM262: Quantitative Methods in Genetics and Genomics\n",
    "**University of California San Diego (UCSD)**  \n",
    "**Winter 2018**  \n",
    "\n",
    "### Contact us:\n",
    "Instructor I: [Dr. Gene Yeo](mailto:geneyeo@ucsd.edu \"Gene Yeo\") (geneyeo@ucsd.edu)  \n",
    "Instructor II [Dr. Alon Goren](mailto:agoren@ucsd.edu \"Alon Goren\") (agoren@ucsd.edu)  \n",
    "Teaching Assistant [Patrick Fiaux](mailto:pfiaux@eng.ucsd.edu) (pfiaux@ucsd.edu)  \n",
    "  \n",
    "Lecture-specific contact info provided below.\n",
    "\n",
    "### Course Description \n",
    "Quantitative Methods in Genetics and Genomics is designed to teach experimental and analytical approaches in modern genetics and genomics, from experimental design through data analysis in each of several topic areas. Lecturers this year include Patrick Fiaux, Scott Rifkin, Olivier Harismendy, Alon Goren, Graham McVicker, Ondrej Libiger, Nicholas Schork, and Hannah Carter.  \n",
    "*This course is a requirement for students in the UCSD Genetics Training Program. 4 units.*\n",
    "\n",
    "### Lecture Location\n",
    "Lectures will all be held at the Sanford Consortium for Regenerative Medicine (SCRM) from 9AM - 12PM.  Room locations will vary over the course of the course.  Please refer to the syllabus (below) to find the location of each week's lecture.\n",
    "\n",
    "\n",
    "### Homework Submission\n",
    "Homework will be assigned on Thursdays and due on Tuesdays throughout the semester. There will not be an assignment every week. Assignments will be announced in the week they are assigned.  \n",
    "Submission of homework will be conducted **by email** to pfiaux@eng.ucsd.edu and will be **due by 9 AM PST on Tuesday mornings.**\n",
    "\n",
    "### Office Hours\n",
    "**Time:** Thursdays 12PM - 1PM after class  \n",
    "**Schedule:**  \n"
   ]
  },
  {
   "cell_type": "markdown",
   "execution_count": null,
   "metadata": {
    "collapsed": true
   },
   "outputs": [],
   "source": [
    "## Syllabus\n",
    "\n",
    "| Module Num. | Date |  Lecture Room | Lecturer | Topic |\n",
    "| ----------- | ---- | ------------- | -------- | ----- |\n",
    "| **0** |  |  |  | Pre-class Setup |\n",
    "| **1** | 01/08/17 | 1013A+B | **Ryan Marina** ([contact](mailto:rmarina@ucsd.edu)) | Unix, TSCC, Jupyter I |\n",
    "|       | 01/10/17 | 1013A+B | Ryan Marina | RNA-Seq (Transcriptomics Analysis) I|\n",
    "| **2** | 01/15/17 | 1013A+B | **Patrick Fiaux** ([contact](mailto:pfiaux@ucsd.edu))  | Intro to R I|\n",
    "|       | 01/17/17 | 1013A+B | Patrick Fiaux | Intro to R II |\n",
    "| **3** | 01/22/17 | 1013A+B | **Scott Rifkin** ([contact](mailto:sarifkin@ucsd.edu)) | Statistics I |\n",
    "|       | 01/24/17 | 1013A+B | Scott Rifkin | Statistics II|\n",
    "| **4** | 1/30/17 | 1013A+B | Emily Wheeler | RNA-seq (Transcriptomics Analysis) IV|\n",
    "|       | 2/1/17 | 1013A+B | Emily Wheeler | RNA-seq (Transcriptomics Analysis) V|\n",
    "| **5** | 2/6/16 | 1013A+B | empty  | TBA |\n",
    "|       | 2/8/16 | 1013A+B | Sempty | TBA |\n",
    "| **6** | 2/13/16 | 1013A+B |  **Olivier Harismendy** ([contact](mailto:oharismendy@ucsd.edu@ucsd.edu)) | DNA Analysis and Variant Calling I|\n",
    "|       | 2/15/16 | 1013A+B | Olivier Harismendy | DNA Analysis and Variant Calling II|\n",
    "| **7** | 2/20/16 | 1013A+B | **Alon Goren** ([contact](mailto:agoren@ucsd.edu)) | ChIP Binding Data I |\n",
    "|       | 2/22/16 | 1013A+B | Alon Goren | ChIP Binding Data II|\n",
    "| **8** | 2/27/16 | 1013A+B | **Hannah Carter** ([contact](mailto:hcarte10@gmail.com)) | Variation (genetic, inherited, somatic variation.) I |\n",
    "|       | 3/1/16 | 1013A+B | Hannah Carter | Variation (genetic, inherited, somatic variation.) I |\n",
    "| **9** | 3/6/16 | 1013A+B | **Graham McVicker** ([contact](mailto:gmcvicker@salk.edu)) | Genetic Variation and Transcription Regulation I |\n",
    "|       | 3/8/16 | 1013A+B | Graham McVicker | Genetic Variation and Transcription Regulation I |\n",
    "| **10** | 3/13/16 | 1013A+B | **Nicholas Schork** ([contact](mailto:nschork@ucsd.edu)) | Modern Applied Population Genetics. Admixture Mapping.|\n",
    "|       | 3/15/16 | 1013A+B |  **no lecturer** ([contact](mailto:ondrej@mdrevolution.com)) | Python and PLINK |"
   ]
  },
  {
   "cell_type": "markdown",
   "metadata": {},
   "source": [
    "\n",
    "\n",
    "## Take Home Exams\n",
    "\n",
    "**Midterm:** Assigned on 1/10, Due on 2/18 at 11:59PM  \n",
    "**Final Exam:** [here](https://github.com/biom262/biom262-2018/tree/master/Final_Exam) Assigned on 3/16, Due on 3/24 at 11:59PM"
   ]
  }
 ],
 "metadata": {
  "kernelspec": {
   "display_name": "Python 2",
   "language": "python",
   "name": "python2"
  },
  "language_info": {
   "codemirror_mode": {
    "name": "ipython",
    "version": 2
   },
   "file_extension": ".py",
   "mimetype": "text/x-python",
   "name": "python",
   "nbconvert_exporter": "python",
   "pygments_lexer": "ipython2",
   "version": "2.7.13"
  }
 },
 "nbformat": 4,
 "nbformat_minor": 0
}
