{
 "cells": [
  {
   "cell_type": "markdown",
   "metadata": {},
   "source": [
    "# Checking (quality of) sequencing data "
   ]
  },
  {
   "cell_type": "markdown",
   "metadata": {},
   "source": [
    "After downloading your sequencing data it is a good idea to briefly look at the files and check the sequencing quality. To take a look at the files themselves we can run the following command:"
   ]
  },
  {
   "cell_type": "raw",
   "metadata": {},
   "source": [
    "less TARDBP_shRNA_HepG2_Rep1_R1.fastq.gz"
   ]
  },
  {
   "cell_type": "markdown",
   "metadata": {},
   "source": [
    "You will now see the standard file format for sequencing data. A FASTQ file normally uses four lines per sequence.\n",
    "\n",
    "Line 1 begins with a '@' character and is followed by a sequence identifier and an optional description (like a FASTA title line).\n",
    "Line 2 is the raw sequence letters.\n",
    "Line 3 begins with a '+' character and is optionally followed by the same sequence identifier (and any description) again.\n",
    "Line 4 encodes the quality values for the sequence in Line 2, and must contain the same number of symbols as letters in the sequence.\n",
    "\n",
    "Since the file looks ok we can check its sequencing quality"
   ]
  },
  {
   "cell_type": "markdown",
   "metadata": {},
   "source": [
    "For sequencing quality 'fastqc' is a convienent program which quickly gives a useful overview of how well the sequencing run went. In our case we will look at one of the downloaded files from the TARDBP shRNA experiment from ENCODE.\n",
    "\n",
    "I have already downloaded the data in this directory (remember we made a softlink to this directory): ~/biom262_2019/Module_1/raw_data\n",
    "\n",
    "First, create your own data quality directory"
   ]
  },
  {
   "cell_type": "raw",
   "metadata": {},
   "source": [
    "mkdir scratch/tardbp_shrna/data_quality"
   ]
  },
  {
   "cell_type": "markdown",
   "metadata": {},
   "source": [
    "Move into this folder and run fastqc:"
   ]
  },
  {
   "cell_type": "raw",
   "metadata": {},
   "source": [
    " fastqc ~/biom262_2019/Module_1/data_quality/TARDBP_shRNA_HepG2_Rep1_R1.fastq.gz -o ~/scratch/tardbp_shrna/data_quality/"
   ]
  },
  {
   "cell_type": "markdown",
   "metadata": {},
   "source": [
    "This will take a few minutes. The progress will continously be updated in the open terminal. After completion move the files to your local computer and examine the files."
   ]
  }
 ],
 "metadata": {
  "kernelspec": {
   "display_name": "Python 3",
   "language": "python",
   "name": "python3"
  },
  "language_info": {
   "codemirror_mode": {
    "name": "ipython",
    "version": 3
   },
   "file_extension": ".py",
   "mimetype": "text/x-python",
   "name": "python",
   "nbconvert_exporter": "python",
   "pygments_lexer": "ipython3",
   "version": "3.7.1"
  }
 },
 "nbformat": 4,
 "nbformat_minor": 2
}
